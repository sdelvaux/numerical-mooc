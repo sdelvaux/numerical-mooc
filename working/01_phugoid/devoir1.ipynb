{
 "cells": [
  {
   "cell_type": "code",
   "execution_count": 476,
   "metadata": {
    "collapsed": true
   },
   "outputs": [],
   "source": [
    "import numpy"
   ]
  },
  {
   "cell_type": "code",
   "execution_count": 477,
   "metadata": {
    "collapsed": false
   },
   "outputs": [],
   "source": [
    "#les paramètres constants\n",
    "\n",
    "m_s= 50   #poids de la fusée sans carburant en Kg\n",
    "g=9.81\n",
    "m_v=1.091  # masse volumique de l'air en Kg/m(3)\n",
    "A= 0.785   # aire de section transversale maximale de la fusée\n",
    "v_e=325    # vitesse d'échappement m/s\n",
    "C_d=0.15   # coefficient de trainée\n",
    "m_p_0=100  # poids initial en carburant de la fusée\n",
    "dt=0.1\n",
    "d=0.5\n",
    "\n",
    "#conditions initiales\n",
    "h_0=0\n",
    "v_0=0\n"
   ]
  },
  {
   "cell_type": "markdown",
   "metadata": {},
   "source": [
    "Réponse1:"
   ]
  },
  {
   "cell_type": "code",
   "execution_count": 478,
   "metadata": {
    "collapsed": false
   },
   "outputs": [],
   "source": [
    "# définir une fonction pour calculer la masse du carburant restant\n",
    "\n",
    "def m_c(t): \n",
    "    if t<5:\n",
    "        v_p=20\n",
    "        m_p= m_p_0-(v_p*t)\n",
    "        print(m_p)\n",
    "    else:\n",
    "        m_p=0\n",
    "        print(m_p)"
   ]
  },
  {
   "cell_type": "code",
   "execution_count": 479,
   "metadata": {
    "collapsed": false
   },
   "outputs": [
    {
     "name": "stdout",
     "output_type": "stream",
     "text": [
      "36.0\n"
     ]
    }
   ],
   "source": [
    "masse_carburant(3.2)"
   ]
  },
  {
   "cell_type": "markdown",
   "metadata": {},
   "source": [
    "Réponse2:"
   ]
  },
  {
   "cell_type": "code",
   "execution_count": 480,
   "metadata": {
    "collapsed": false
   },
   "outputs": [],
   "source": [
    "def v_c(t):  # vitesse combustion\n",
    "    if t<5:\n",
    "        v_p=20\n",
    "        print(v_p)\n",
    "    else:\n",
    "        v_p=0\n",
    "        print(v_p)\n",
    "    \n"
   ]
  },
  {
   "cell_type": "code",
   "execution_count": null,
   "metadata": {
    "collapsed": true
   },
   "outputs": [],
   "source": [
    "T = 5.0\n",
    "dt = 0.1\n",
    "N = int(T/dt)+1\n",
    "t = numpy.linspace(0.0, T, N)"
   ]
  },
  {
   "cell_type": "code",
   "execution_count": null,
   "metadata": {
    "collapsed": true
   },
   "outputs": [],
   "source": [
    "# initial conditions\n",
    "h0 = 0  #altitude\n",
    "v0  = 0  #upward velocity resulting from gust\n",
    "\n",
    "\n",
    "u = numpy.array([h0, v0])\n",
    "h=u[0]\n",
    "v=u[1]\n",
    "# initialize an array to hold the changing elevation values\n",
    "h = numpy.zeros(N)\n",
    "h[0] = h0\n"
   ]
  },
  {
   "cell_type": "code",
   "execution_count": null,
   "metadata": {
    "collapsed": true
   },
   "outputs": [],
   "source": [
    "# time-loop using Euler's method\n",
    "for n in range(1,N):\n",
    "    u = u + dt*numpy.array([u[1],120.19-0.001*u[1]**2])\n",
    "    print(u)"
   ]
  }
 ],
 "metadata": {
  "kernelspec": {
   "display_name": "Python 3",
   "language": "python",
   "name": "python3"
  },
  "language_info": {
   "codemirror_mode": {
    "name": "ipython",
    "version": 3
   },
   "file_extension": ".py",
   "mimetype": "text/x-python",
   "name": "python",
   "nbconvert_exporter": "python",
   "pygments_lexer": "ipython3",
   "version": "3.4.3"
  }
 },
 "nbformat": 4,
 "nbformat_minor": 0
}
