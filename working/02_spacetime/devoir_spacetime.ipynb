{
 "cells": [
  {
   "cell_type": "markdown",
   "metadata": {},
   "source": [
    "### Module 2: spacetime"
   ]
  },
  {
   "cell_type": "markdown",
   "metadata": {},
   "source": [
    "### Importation des librairies."
   ]
  },
  {
   "cell_type": "code",
   "execution_count": 236,
   "metadata": {
    "collapsed": true
   },
   "outputs": [],
   "source": [
    "import numpy\n",
    "import sympy\n",
    "from matplotlib import pyplot\n",
    "%matplotlib inline\n",
    "from matplotlib import rcParams\n",
    "rcParams['font.family'] = 'serif'\n",
    "rcParams['font.size'] = 16"
   ]
  },
  {
   "cell_type": "code",
   "execution_count": 237,
   "metadata": {
    "collapsed": true
   },
   "outputs": [],
   "source": [
    "from sympy import init_printing\n",
    "init_printing()"
   ]
  },
  {
   "cell_type": "code",
   "execution_count": 238,
   "metadata": {
    "collapsed": true
   },
   "outputs": [],
   "source": [
    "from sympy.utilities.lambdify import lambdify\n"
   ]
  },
  {
   "cell_type": "markdown",
   "metadata": {},
   "source": [
    "### Partie A :"
   ]
  },
  {
   "cell_type": "markdown",
   "metadata": {},
   "source": [
    "### Déclaration: des constantes, des conditions initiales, des conditions aux bords."
   ]
  },
  {
   "cell_type": "code",
   "execution_count": 239,
   "metadata": {
    "collapsed": true
   },
   "outputs": [],
   "source": [
    "##Constantes\n",
    "nx = 51\n",
    "dx = 11/(nx-1)    \n",
    "dt = .001\n",
    "nt=51\n",
    "L =11\n",
    "vmax=80\n",
    "rhomax=250\n",
    "\n",
    "##Conditions initiales\n",
    "x = numpy.linspace(0,L,nx)\n",
    "rho0 = numpy.ones(nx)*10\n",
    "rho0[10:20] = 50\n",
    "\n",
    "##condition au bord\n",
    "rho0[0]=10\n",
    "\n"
   ]
  },
  {
   "cell_type": "markdown",
   "metadata": {},
   "source": [
    "### Vérification des données initiales."
   ]
  },
  {
   "cell_type": "code",
   "execution_count": 240,
   "metadata": {
    "collapsed": false
   },
   "outputs": [
    {
     "name": "stdout",
     "output_type": "stream",
     "text": [
      "[  0.     0.22   0.44   0.66   0.88   1.1    1.32   1.54   1.76   1.98\n",
      "   2.2    2.42   2.64   2.86   3.08   3.3    3.52   3.74   3.96   4.18\n",
      "   4.4    4.62   4.84   5.06   5.28   5.5    5.72   5.94   6.16   6.38\n",
      "   6.6    6.82   7.04   7.26   7.48   7.7    7.92   8.14   8.36   8.58\n",
      "   8.8    9.02   9.24   9.46   9.68   9.9   10.12  10.34  10.56  10.78  11.  ]\n",
      "[ 10.  10.  10.  10.  10.  10.  10.  10.  10.  10.  50.  50.  50.  50.  50.\n",
      "  50.  50.  50.  50.  50.  10.  10.  10.  10.  10.  10.  10.  10.  10.  10.\n",
      "  10.  10.  10.  10.  10.  10.  10.  10.  10.  10.  10.  10.  10.  10.  10.\n",
      "  10.  10.  10.  10.  10.  10.]\n"
     ]
    }
   ],
   "source": [
    "print(x)\n",
    "print(rho0)"
   ]
  },
  {
   "cell_type": "code",
   "execution_count": 241,
   "metadata": {
    "collapsed": false
   },
   "outputs": [
    {
     "data": {
      "image/png": "[encoded data removed]",
      "text/plain": [
       "<matplotlib.figure.Figure at 0x8da3d30>"
      ]
     },
     "metadata": {},
     "output_type": "display_data"
    }
   ],
   "source": [
    "pyplot.plot(x, rho0, color='#003366', ls='--', lw=3)\n",
    "pyplot.ylim(0,60);"
   ]
  },
  {
   "cell_type": "markdown",
   "metadata": {},
   "source": [
    "### Définition des variables symboliques."
   ]
  },
  {
   "cell_type": "code",
   "execution_count": 242,
   "metadata": {
    "collapsed": true
   },
   "outputs": [],
   "source": [
    "rho= sympy.symbols('rho')\n"
   ]
  },
  {
   "cell_type": "markdown",
   "metadata": {},
   "source": [
    "## Définir la vitesse"
   ]
  },
  {
   "cell_type": "code",
   "execution_count": 243,
   "metadata": {
    "collapsed": false
   },
   "outputs": [
    {
     "name": "stdout",
     "output_type": "stream",
     "text": [
      "-4*rho/45 + 200/9\n"
     ]
    }
   ],
   "source": [
    "v=vmax*(1-rho/rhomax)*1000/3600\n",
    "print(v)"
   ]
  },
  {
   "cell_type": "markdown",
   "metadata": {},
   "source": [
    "### Partie 1-1"
   ]
  },
  {
   "cell_type": "code",
   "execution_count": 244,
   "metadata": {
    "collapsed": false
   },
   "outputs": [
    {
     "name": "stdout",
     "output_type": "stream",
     "text": [
      "Vitesse minimum en t=0 min : 17.7777777778\n"
     ]
    }
   ],
   "source": [
    "print(\"Vitesse minimum en t=0 min :\",min(v_lamb(rho0[0:])))"
   ]
  },
  {
   "cell_type": "markdown",
   "metadata": {},
   "source": [
    "### Partie 1-2"
   ]
  },
  {
   "cell_type": "markdown",
   "metadata": {},
   "source": [
    "### équation  aux dérivées partielles pour la densité."
   ]
  },
  {
   "cell_type": "code",
   "execution_count": 245,
   "metadata": {
    "collapsed": false
   },
   "outputs": [
    {
     "name": "stdout",
     "output_type": "stream",
     "text": [
      "[ 10.          10.          10.          10.          10.          10.          10.\n",
      "  10.          10.          10.          10.00000001  10.00000021\n",
      "  10.00000298  10.00002825  10.00019704  10.00108026  10.0048485\n",
      "  10.01832573  10.05955456  10.16908856  10.42481504  10.95438834\n",
      "  11.93433196  13.56406876  16.0110214   19.33918479  23.4499331\n",
      "  28.06707772  32.78056227  37.13258594  40.70768258  43.19155228\n",
      "  44.38887459  44.21672568  42.69784238  39.96457136  36.26420899\n",
      "  31.94657419  27.42164589  23.09251832  19.28438661  16.19437094\n",
      "  13.87813236  12.27323109  11.2450958   10.63612469  10.30266928\n",
      "  10.13391072  10.05500622  10.02094357  10.00737842]\n"
     ]
    }
   ],
   "source": [
    "for n in range(1,nt):  \n",
    "    un = rho0.copy() \n",
    "    rho0[1:] = un[1:]+2*vmax*dt/rhomax*dx*un[1:]*(un[1:]-un[0:-1])-vmax*dt/dx*(un[1:]-un[0:-1])\n",
    "    if n==50:\n",
    "        print(rho0[0:])"
   ]
  },
  {
   "cell_type": "code",
   "execution_count": 246,
   "metadata": {
    "collapsed": false
   },
   "outputs": [
    {
     "data": {
      "image/png": "[encoded data removed]",
      "text/plain": [
       "<matplotlib.figure.Figure at 0x8ef2710>"
      ]
     },
     "metadata": {},
     "output_type": "display_data"
    }
   ],
   "source": [
    "pyplot.plot(x, rho0, color='#003366', ls='--', lw=3)\n",
    "pyplot.ylim(0,60);"
   ]
  },
  {
   "cell_type": "code",
   "execution_count": 247,
   "metadata": {
    "collapsed": false
   },
   "outputs": [
    {
     "name": "stdout",
     "output_type": "stream",
     "text": [
      "-4*rho/45 + 200/9\n"
     ]
    }
   ],
   "source": [
    "v=vmax*(1-rho/rhomax)*1000/3600\n",
    "print(v)"
   ]
  },
  {
   "cell_type": "code",
   "execution_count": 248,
   "metadata": {
    "collapsed": false
   },
   "outputs": [
    {
     "name": "stdout",
     "output_type": "stream",
     "text": [
      "[ 21.33333333  21.33333333  21.33333333  21.33333333  21.33333333\n",
      "  21.33333333  21.33333333  21.33333333  21.33333333  21.33333333\n",
      "  21.33333333  21.33333331  21.33333307  21.33333082  21.33331582\n",
      "  21.33323731  21.33290236  21.33170438  21.32803959  21.31830324\n",
      "  21.295572    21.24849881  21.16139271  21.01652722  20.79902032\n",
      "  20.50318357  20.13778372  19.72737087  19.30839446  18.92154792\n",
      "  18.60376155  18.38297313  18.27654448  18.29184661  18.42685845\n",
      "  18.66981588  18.99873698  19.38252674  19.78474259  20.16955393\n",
      "  20.50805452  20.78272258  20.98861046  21.13126835  21.22265815\n",
      "  21.27678892  21.3064294   21.32143016  21.32844389  21.33147168\n",
      "  21.33267747]\n"
     ]
    }
   ],
   "source": [
    "v_lamb = lambdify((rho), v)\n",
    "print(format(v_lamb(rho0[0:])))"
   ]
  },
  {
   "cell_type": "markdown",
   "metadata": {},
   "source": [
    "### Définition de la vitesse moyenne"
   ]
  },
  {
   "cell_type": "code",
   "execution_count": 249,
   "metadata": {
    "collapsed": true
   },
   "outputs": [],
   "source": [
    "s=sum(v_lamb(rho0[0:]))  ## somme des éléments du tableau\n",
    "v_average=s/nt          "
   ]
  },
  {
   "cell_type": "code",
   "execution_count": 250,
   "metadata": {
    "collapsed": false
   },
   "outputs": [
    {
     "name": "stdout",
     "output_type": "stream",
     "text": [
      "Vitesse moyenne en t= 3 min : 20.6329681196\n"
     ]
    }
   ],
   "source": [
    "print(\"Vitesse moyenne en t= 3 min :\",v_average)"
   ]
  },
  {
   "cell_type": "markdown",
   "metadata": {},
   "source": [
    "### Partie 1-3"
   ]
  },
  {
   "cell_type": "code",
   "execution_count": 251,
   "metadata": {
    "collapsed": true
   },
   "outputs": [],
   "source": [
    "##constantes\n",
    "nx = 51\n",
    "dx = 11/(nx-1)    \n",
    "dt = .001\n",
    "nt1=101\n",
    "L =11\n",
    "vmax=80\n",
    "rhomax=250\n",
    "\n",
    "##conditions initiales\n",
    "x = numpy.linspace(0,L,nx)\n",
    "rho01= numpy.ones(nx)*10\n",
    "rho01[10:20] = 50\n",
    "\n",
    "##condition au bord\n",
    "rho01[0]=10\n",
    "\n"
   ]
  },
  {
   "cell_type": "code",
   "execution_count": 252,
   "metadata": {
    "collapsed": false
   },
   "outputs": [
    {
     "name": "stdout",
     "output_type": "stream",
     "text": [
      "[ 10.          10.          10.          10.          10.          10.          10.\n",
      "  10.          10.          10.          10.          10.          10.          10.\n",
      "  10.          10.          10.          10.          10.          10.00000002\n",
      "  10.00000009  10.00000043  10.00000186  10.00000737  10.00002683\n",
      "  10.00009026  10.00028188  10.00082035  10.00223261  10.00569983\n",
      "  10.01368916  10.03100839  10.06640464  10.13473643  10.25955001\n",
      "  10.47558507  10.8303741   11.38380574  12.20446685  13.36193052\n",
      "  14.91500424  16.89720437  19.30207019  22.07187983  25.09336735\n",
      "  28.20288625  31.20130451  33.87642115  36.02876277  37.49592928\n",
      "  38.17133548]\n"
     ]
    }
   ],
   "source": [
    "for n in range(1,nt1):  \n",
    "    un1 = rho01.copy() \n",
    "    rho01[1:] = un1[1:]+2*vmax*dt/rhomax*dx*un1[1:]*(un1[1:]-un1[0:-1])-vmax*dt/dx*(un1[1:]-un1[0:-1])\n",
    "    if n==100:\n",
    "        print(rho01[0:])"
   ]
  },
  {
   "cell_type": "code",
   "execution_count": 253,
   "metadata": {
    "collapsed": false
   },
   "outputs": [
    {
     "name": "stdout",
     "output_type": "stream",
     "text": [
      "-4*rho/45 + 200/9\n"
     ]
    }
   ],
   "source": [
    "v=vmax*(1-rho/rhomax)*1000/3600\n",
    "print(v)"
   ]
  },
  {
   "cell_type": "code",
   "execution_count": 254,
   "metadata": {
    "collapsed": false
   },
   "outputs": [
    {
     "name": "stdout",
     "output_type": "stream",
     "text": [
      "[ 21.33333333  21.33333333  21.33333333  21.33333333  21.33333333\n",
      "  21.33333333  21.33333333  21.33333333  21.33333333  21.33333333\n",
      "  21.33333333  21.33333333  21.33333333  21.33333333  21.33333333\n",
      "  21.33333333  21.33333333  21.33333333  21.33333333  21.33333333\n",
      "  21.33333333  21.3333333   21.33333317  21.33333268  21.33333095\n",
      "  21.33332531  21.33330828  21.33326041  21.33313488  21.33282668\n",
      "  21.33211652  21.33057703  21.3274307   21.32135676  21.31026222\n",
      "  21.2910591   21.2595223   21.21032838  21.13738072  21.03449507\n",
      "  20.89644407  20.7202485   20.50648265  20.26027735  19.99170068\n",
      "  19.715299    19.44877293  19.21098479  19.01966553  18.88925073\n",
      "  18.82921462]\n"
     ]
    }
   ],
   "source": [
    "v_lamb1= lambdify((rho), v)\n",
    "print(format(v_lamb1(rho01[0:])))"
   ]
  },
  {
   "cell_type": "code",
   "execution_count": 255,
   "metadata": {
    "collapsed": false
   },
   "outputs": [
    {
     "name": "stdout",
     "output_type": "stream",
     "text": [
      "Vitesse minimum en t= 6 min : 18.8292146242\n"
     ]
    }
   ],
   "source": [
    "print(\"Vitesse minimum en t= 6 min :\",min(v_lamb1(rho01[0:])))"
   ]
  },
  {
   "cell_type": "markdown",
   "metadata": {},
   "source": [
    "### Partie B :"
   ]
  },
  {
   "cell_type": "markdown",
   "metadata": {},
   "source": [
    "### Partie 2-1:"
   ]
  },
  {
   "cell_type": "code",
   "execution_count": 256,
   "metadata": {
    "collapsed": true
   },
   "outputs": [],
   "source": [
    "##constantes\n",
    "nx = 51\n",
    "dx = 11/(nx-1)    \n",
    "dt = .001\n",
    "nt=51\n",
    "L =11\n",
    "vmax1=136\n",
    "rhomax=250\n",
    "\n",
    "##conditions initiales\n",
    "x = numpy.linspace(0,L,nx)\n",
    "rho1= numpy.ones(nx)*20\n",
    "rho1[10:20] = 50\n",
    "\n",
    "##condition au bord\n",
    "rho1[0]=20\n",
    "\n"
   ]
  },
  {
   "cell_type": "code",
   "execution_count": 257,
   "metadata": {
    "collapsed": false
   },
   "outputs": [
    {
     "name": "stdout",
     "output_type": "stream",
     "text": [
      "[  0.     0.22   0.44   0.66   0.88   1.1    1.32   1.54   1.76   1.98\n",
      "   2.2    2.42   2.64   2.86   3.08   3.3    3.52   3.74   3.96   4.18\n",
      "   4.4    4.62   4.84   5.06   5.28   5.5    5.72   5.94   6.16   6.38\n",
      "   6.6    6.82   7.04   7.26   7.48   7.7    7.92   8.14   8.36   8.58\n",
      "   8.8    9.02   9.24   9.46   9.68   9.9   10.12  10.34  10.56  10.78  11.  ]\n",
      "[ 20.  20.  20.  20.  20.  20.  20.  20.  20.  20.  50.  50.  50.  50.  50.\n",
      "  50.  50.  50.  50.  50.  20.  20.  20.  20.  20.  20.  20.  20.  20.  20.\n",
      "  20.  20.  20.  20.  20.  20.  20.  20.  20.  20.  20.  20.  20.  20.  20.\n",
      "  20.  20.  20.  20.  20.  20.]\n"
     ]
    }
   ],
   "source": [
    "print(x)\n",
    "print(rho1)"
   ]
  },
  {
   "cell_type": "code",
   "execution_count": 258,
   "metadata": {
    "collapsed": false
   },
   "outputs": [
    {
     "data": {
      "image/png": "[encoded data removed]",
      "text/plain": [
       "<matplotlib.figure.Figure at 0x8cf83c8>"
      ]
     },
     "metadata": {},
     "output_type": "display_data"
    }
   ],
   "source": [
    "pyplot.plot(x, rho1, color='#003366', ls='--', lw=3)\n",
    "pyplot.ylim(0,60);"
   ]
  },
  {
   "cell_type": "code",
   "execution_count": 259,
   "metadata": {
    "collapsed": false
   },
   "outputs": [
    {
     "name": "stdout",
     "output_type": "stream",
     "text": [
      "-34*rho/225 + 340/9\n"
     ]
    }
   ],
   "source": [
    "v1=vmax1*(1-rho/rhomax)*1000/3600\n",
    "print(v1)"
   ]
  },
  {
   "cell_type": "code",
   "execution_count": 260,
   "metadata": {
    "collapsed": false
   },
   "outputs": [
    {
     "name": "stdout",
     "output_type": "stream",
     "text": [
      "[ 34.75555556  34.75555556  34.75555556  34.75555556  34.75555556\n",
      "  34.75555556  34.75555556  34.75555556  34.75555556  34.75555556\n",
      "  30.22222222  30.22222222  30.22222222  30.22222222  30.22222222\n",
      "  30.22222222  30.22222222  30.22222222  30.22222222  30.22222222\n",
      "  34.75555556  34.75555556  34.75555556  34.75555556  34.75555556\n",
      "  34.75555556  34.75555556  34.75555556  34.75555556  34.75555556\n",
      "  34.75555556  34.75555556  34.75555556  34.75555556  34.75555556\n",
      "  34.75555556  34.75555556  34.75555556  34.75555556  34.75555556\n",
      "  34.75555556  34.75555556  34.75555556  34.75555556  34.75555556\n",
      "  34.75555556  34.75555556  34.75555556  34.75555556  34.75555556\n",
      "  34.75555556]\n"
     ]
    }
   ],
   "source": [
    "v1_lamb2 = lambdify((rho), v1)\n",
    "print(format(v1_lamb2(rho1[0:])))"
   ]
  },
  {
   "cell_type": "code",
   "execution_count": 261,
   "metadata": {
    "collapsed": false
   },
   "outputs": [
    {
     "name": "stdout",
     "output_type": "stream",
     "text": [
      "Vitesse minimum en t=0 min : 30.2222222222\n"
     ]
    }
   ],
   "source": [
    "print(\"Vitesse minimum en t=0 min :\",min(v1_lamb2(rho1[0:])))"
   ]
  },
  {
   "cell_type": "code",
   "execution_count": 262,
   "metadata": {
    "collapsed": false
   },
   "outputs": [
    {
     "name": "stdout",
     "output_type": "stream",
     "text": [
      "[ 20.          20.          20.          20.          20.          20.          20.\n",
      "  20.          20.          20.          20.          20.          20.          20.\n",
      "  20.          20.          20.          20.          20.          20.00000001\n",
      "  20.00000009  20.00000052  20.00000274  20.00001306  20.00005636\n",
      "  20.00022146  20.00079528  20.002619    20.00793327  20.02216262\n",
      "  20.05723561  20.1369328   20.30407174  20.62781138  21.20715541\n",
      "  22.16486801  23.62638338  25.68282026  28.34597482  31.51243998\n",
      "  34.95669937  38.36354752  41.39115138  43.73960676  45.19848224\n",
      "  45.66175253  45.11797594  43.63349328  41.34181279  38.43942092\n",
      "  35.17785966]\n"
     ]
    }
   ],
   "source": [
    "for n in range(1,nt):  \n",
    "    un = rho1.copy() \n",
    "    rho1[1:] = un[1:]+2*vmax1*dt/rhomax*dx*un[1:]*(un[1:]-un[0:-1])-vmax1*dt/dx*(un[1:]-un[0:-1])\n",
    "    if n==50:\n",
    "        print(rho1[0:])"
   ]
  },
  {
   "cell_type": "code",
   "execution_count": 263,
   "metadata": {
    "collapsed": false
   },
   "outputs": [
    {
     "data": {
      "image/png": "[encoded data removed]",
      "text/plain": [
       "<matplotlib.figure.Figure at 0x8dc8198>"
      ]
     },
     "metadata": {},
     "output_type": "display_data"
    }
   ],
   "source": [
    "pyplot.plot(x, rho0, color='#003366', ls='--', lw=3)\n",
    "pyplot.ylim(0,60);"
   ]
  },
  {
   "cell_type": "code",
   "execution_count": 264,
   "metadata": {
    "collapsed": false
   },
   "outputs": [
    {
     "name": "stdout",
     "output_type": "stream",
     "text": [
      "-34*rho/225 + 340/9\n"
     ]
    }
   ],
   "source": [
    "v2=vmax1*(1-rho/rhomax)*1000/3600  ### la coefficient (1000/3600) est pour changer \n",
    "print(v2)"
   ]
  },
  {
   "cell_type": "code",
   "execution_count": 265,
   "metadata": {
    "collapsed": false
   },
   "outputs": [
    {
     "name": "stdout",
     "output_type": "stream",
     "text": [
      "[ 34.75555556  34.75555556  34.75555556  34.75555556  34.75555556\n",
      "  34.75555556  34.75555556  34.75555556  34.75555556  34.75555556\n",
      "  34.75555556  34.75555556  34.75555556  34.75555556  34.75555556\n",
      "  34.75555556  34.75555556  34.75555556  34.75555556  34.75555555\n",
      "  34.75555554  34.75555548  34.75555514  34.75555358  34.75554704\n",
      "  34.75552209  34.75543538  34.7551598   34.75435675  34.75220654\n",
      "  34.74690662  34.73486349  34.70960694  34.66068628  34.57314096\n",
      "  34.42841995  34.20756873  33.89681827  33.49438603  33.01589796\n",
      "  32.4954321   31.98061949  31.5231149   31.1682372   30.94778491\n",
      "  30.87777962  30.9599503   31.18427213  31.53057051  31.96915417\n",
      "  32.46201232]\n"
     ]
    }
   ],
   "source": [
    "v2_lamb = lambdify((rho), v2)\n",
    "print(format(v2_lamb(rho1[0:])))"
   ]
  },
  {
   "cell_type": "code",
   "execution_count": 266,
   "metadata": {
    "collapsed": true
   },
   "outputs": [],
   "source": [
    "s1=sum(v2_lamb(rho1[0:]))  ## somme des elements de tableau\n",
    "v2_average=s1/nt            ## somme des elements de tableau divisés par nombre d'elements "
   ]
  },
  {
   "cell_type": "markdown",
   "metadata": {},
   "source": [
    "### partie 2-2"
   ]
  },
  {
   "cell_type": "code",
   "execution_count": 267,
   "metadata": {
    "collapsed": false
   },
   "outputs": [
    {
     "name": "stdout",
     "output_type": "stream",
     "text": [
      "Vitesse moyenne en t=3 min : 33.9652702217\n"
     ]
    }
   ],
   "source": [
    "print(\"Vitesse moyenne en t=3 min :\",v2_average)"
   ]
  },
  {
   "cell_type": "markdown",
   "metadata": {},
   "source": [
    "### partie 2-3"
   ]
  },
  {
   "cell_type": "code",
   "execution_count": 226,
   "metadata": {
    "collapsed": false
   },
   "outputs": [
    {
     "name": "stdout",
     "output_type": "stream",
     "text": [
      "Vitesse minimum en t=3 min : 30.877779618\n"
     ]
    }
   ],
   "source": [
    "print(\"Vitesse minimum en t=3 min :\",min(v2_lamb(rho1[0:])))"
   ]
  },
  {
   "cell_type": "code",
   "execution_count": null,
   "metadata": {
    "collapsed": true
   },
   "outputs": [],
   "source": []
  },
  {
   "cell_type": "code",
   "execution_count": null,
   "metadata": {
    "collapsed": true
   },
   "outputs": [],
   "source": []
  },
  {
   "cell_type": "code",
   "execution_count": null,
   "metadata": {
    "collapsed": true
   },
   "outputs": [],
   "source": []
  }
 ],
 "metadata": {
  "kernelspec": {
   "display_name": "Python 3",
   "language": "python",
   "name": "python3"
  },
  "language_info": {
   "codemirror_mode": {
    "name": "ipython",
    "version": 3
   },
   "file_extension": ".py",
   "mimetype": "text/x-python",
   "name": "python",
   "nbconvert_exporter": "python",
   "pygments_lexer": "ipython3",
   "version": "3.4.3"
  }
 },
 "nbformat": 4,
 "nbformat_minor": 0
}
